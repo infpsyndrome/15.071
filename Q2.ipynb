{
 "cells": [
  {
   "cell_type": "code",
   "execution_count": 3,
   "metadata": {
    "collapsed": false
   },
   "outputs": [
    {
     "name": "stdout",
     "output_type": "stream",
     "text": [
      "tags {} 1032\n",
      "{'Count': '1342', 'WikiPostId': '20257', 'Id': '1', 'TagName': 'bayesian', 'ExcerptPostId': '20258'}\n"
     ]
    }
   ],
   "source": [
    "#http://eli.thegreenplace.net/2012/03/15/processing-xml-in-python-with-elementtree\n",
    "#http://effbot.org/zone/element.htm\n",
    "\n",
    "# import the element instance from XML  \n",
    "import xml.etree.ElementTree as ET\n",
    "import pandas as pd \n",
    "\n",
    "# read in Tag files\n",
    "path='/Users/Serene/Documents/python/dataincubation/'\n",
    "\n",
    "Tag_tree=ET.parse(path+'Tags.xml')\n",
    "root=Tag_tree.getroot()\n",
    "print root.tag, root.attrib,len(root)\n",
    "\n",
    "# find the tags in children roots\n",
    "print [node.attrib for node in root][0]\n",
    "\n"
   ]
  },
  {
   "cell_type": "code",
   "execution_count": 4,
   "metadata": {
    "collapsed": false,
    "scrolled": true
   },
   "outputs": [
    {
     "name": "stdout",
     "output_type": "stream",
     "text": [
      "  Count ExcerptPostId Id      TagName WikiPostId\n",
      "0  1342         20258  1     bayesian      20257\n",
      "1   168         62158  2        prior      62157\n",
      "2     6           NaN  3  elicitation        NaN\n",
      "3   191         67815  4    normality      67814\n",
      "4    13           NaN  5  open-source        NaN\n",
      "Count            object\n",
      "ExcerptPostId    object\n",
      "Id               object\n",
      "TagName          object\n",
      "WikiPostId       object\n",
      "dtype: object\n",
      "Count              int64\n",
      "ExcerptPostId    float64\n",
      "Id                 int64\n",
      "TagName           object\n",
      "WikiPostId       float64\n",
      "dtype: object\n"
     ]
    }
   ],
   "source": [
    "# create pandas dataframe and convert datatype\n",
    "dfTag=pd.DataFrame([node.attrib for node in root])\n",
    "print dfTag.head()\n",
    "print dfTag.dtypes\n",
    "dfTag=dfTag.convert_objects(convert_numeric=True)\n",
    "print dfTag.dtypes\n"
   ]
  },
  {
   "cell_type": "code",
   "execution_count": 5,
   "metadata": {
    "collapsed": false
   },
   "outputs": [
    {
     "data": {
      "text/html": [
       "<div>\n",
       "<table border=\"1\" class=\"dataframe\">\n",
       "  <thead>\n",
       "    <tr style=\"text-align: right;\">\n",
       "      <th></th>\n",
       "      <th>Count</th>\n",
       "      <th>ExcerptPostId</th>\n",
       "      <th>Id</th>\n",
       "      <th>TagName</th>\n",
       "      <th>WikiPostId</th>\n",
       "    </tr>\n",
       "  </thead>\n",
       "  <tbody>\n",
       "    <tr>\n",
       "      <th>24</th>\n",
       "      <td>7244</td>\n",
       "      <td>2331</td>\n",
       "      <td>41</td>\n",
       "      <td>r</td>\n",
       "      <td>2254</td>\n",
       "    </tr>\n",
       "    <tr>\n",
       "      <th>56</th>\n",
       "      <td>5413</td>\n",
       "      <td>8172</td>\n",
       "      <td>111</td>\n",
       "      <td>regression</td>\n",
       "      <td>8171</td>\n",
       "    </tr>\n",
       "    <tr>\n",
       "      <th>19</th>\n",
       "      <td>2737</td>\n",
       "      <td>3017</td>\n",
       "      <td>30</td>\n",
       "      <td>time-series</td>\n",
       "      <td>3016</td>\n",
       "    </tr>\n",
       "    <tr>\n",
       "      <th>6</th>\n",
       "      <td>2564</td>\n",
       "      <td>9066</td>\n",
       "      <td>9</td>\n",
       "      <td>machine-learning</td>\n",
       "      <td>9065</td>\n",
       "    </tr>\n",
       "    <tr>\n",
       "      <th>100</th>\n",
       "      <td>2081</td>\n",
       "      <td>20256</td>\n",
       "      <td>188</td>\n",
       "      <td>probability</td>\n",
       "      <td>20255</td>\n",
       "    </tr>\n",
       "  </tbody>\n",
       "</table>\n",
       "</div>"
      ],
      "text/plain": [
       "     Count  ExcerptPostId   Id           TagName  WikiPostId\n",
       "24    7244           2331   41                 r        2254\n",
       "56    5413           8172  111        regression        8171\n",
       "19    2737           3017   30       time-series        3016\n",
       "6     2564           9066    9  machine-learning        9065\n",
       "100   2081          20256  188       probability       20255"
      ]
     },
     "execution_count": 5,
     "metadata": {},
     "output_type": "execute_result"
    }
   ],
   "source": [
    "dfTag.sort(columns=\"Count\",ascending=False).head()"
   ]
  },
  {
   "cell_type": "code",
   "execution_count": 6,
   "metadata": {
    "collapsed": false
   },
   "outputs": [
    {
     "name": "stdout",
     "output_type": "stream",
     "text": [
      "0       bayesian\n",
      "1          prior\n",
      "2    elicitation\n",
      "3      normality\n",
      "4    open-source\n",
      "Name: TagName, dtype: object\n"
     ]
    }
   ],
   "source": [
    "PopularTags=dfTag['TagName'][:5]\n",
    "print PopularTags"
   ]
  },
  {
   "cell_type": "code",
   "execution_count": 7,
   "metadata": {
    "collapsed": false,
    "scrolled": true
   },
   "outputs": [
    {
     "name": "stdout",
     "output_type": "stream",
     "text": [
      "posts {} 91976\n",
      "{'Body': '<p>How should I elicit prior distributions from experts when fitting a Bayesian model?</p>\\n', 'ViewCount': '1278', 'Title': 'Eliciting priors from experts', 'LastActivityDate': '2010-09-15T21:08:26.077', 'AnswerCount': '5', 'CommentCount': '1', 'AcceptedAnswerId': '15', 'Score': '23', 'PostTypeId': '1', 'OwnerUserId': '8', 'Tags': '<bayesian><prior><elicitation>', 'CreationDate': '2010-07-19T19:12:12.510', 'FavoriteCount': '14', 'Id': '1'}\n"
     ]
    }
   ],
   "source": [
    "# read in Post files\n",
    "\n",
    "Post_tree=ET.parse(path+'Posts.xml')\n",
    "root=Post_tree.getroot()\n",
    "print root.tag, root.attrib,len(root)\n",
    "\n",
    "# find the tags in children roots\n",
    "print [node.attrib for node in root][0]\n"
   ]
  },
  {
   "cell_type": "code",
   "execution_count": 8,
   "metadata": {
    "collapsed": false
   },
   "outputs": [
    {
     "name": "stdout",
     "output_type": "stream",
     "text": [
      "['Body', 'ViewCount', 'Title', 'LastActivityDate', 'AnswerCount', 'CommentCount', 'AcceptedAnswerId', 'Score', 'PostTypeId', 'OwnerUserId', 'Tags', 'CreationDate', 'FavoriteCount', 'Id']\n"
     ]
    }
   ],
   "source": [
    "# find the keys in Post.xml\n",
    "print [node.attrib for node in root][0].keys()"
   ]
  },
  {
   "cell_type": "code",
   "execution_count": 88,
   "metadata": {
    "collapsed": false
   },
   "outputs": [
    {
     "name": "stdout",
     "output_type": "stream",
     "text": [
      "(91976, 21)   AcceptedAnswerId AnswerCount  \\\n",
      "0               15           5   \n",
      "1               59           7   \n",
      "2                5          19   \n",
      "3              135           5   \n",
      "4              NaN         NaN   \n",
      "\n",
      "                                                Body ClosedDate CommentCount  \\\n",
      "0  <p>How should I elicit prior distributions fro...        NaN            1   \n",
      "1  <p>In many different statistical methods there...        NaN            1   \n",
      "2  <p>What are some valuable Statistical Analysis...        NaN            4   \n",
      "3  <p>I have two groups of data.  Each with a dif...        NaN            2   \n",
      "4  <p>The R-project</p>\\n\\n<p><a href=\"http://www...        NaN            3   \n",
      "\n",
      "        CommunityOwnedDate             CreationDate FavoriteCount Id  \\\n",
      "0                      NaN  2010-07-19T19:12:12.510            14  1   \n",
      "1                      NaN  2010-07-19T19:12:57.157             8  2   \n",
      "2  2010-07-19T19:13:28.577  2010-07-19T19:13:28.577            36  3   \n",
      "3                      NaN  2010-07-19T19:13:31.617             2  4   \n",
      "4  2010-07-19T19:14:43.050  2010-07-19T19:14:43.050           NaN  5   \n",
      "\n",
      "          LastActivityDate    ...    LastEditorDisplayName LastEditorUserId  \\\n",
      "0  2010-09-15T21:08:26.077    ...                      NaN              NaN   \n",
      "1  2012-11-12T09:21:54.993    ...                      NaN               88   \n",
      "2  2013-05-27T14:48:36.927    ...                      NaN              183   \n",
      "3  2010-09-08T03:00:19.690    ...                      NaN              NaN   \n",
      "4  2010-07-19T19:21:15.063    ...                      NaN               23   \n",
      "\n",
      "  OwnerDisplayName OwnerUserId ParentId PostTypeId Score  \\\n",
      "0              NaN           8      NaN          1    23   \n",
      "1              NaN          24      NaN          1    22   \n",
      "2              NaN          18      NaN          1    54   \n",
      "3              NaN          23      NaN          1    13   \n",
      "4              NaN          23        3          2    81   \n",
      "\n",
      "                                        Tags  \\\n",
      "0             <bayesian><prior><elicitation>   \n",
      "1                 <distributions><normality>   \n",
      "2                    <software><open-source>   \n",
      "3  <distributions><statistical-significance>   \n",
      "4                                        NaN   \n",
      "\n",
      "                                               Title ViewCount  \n",
      "0                      Eliciting priors from experts      1278  \n",
      "1                                 What is normality?      8198  \n",
      "2  What are some valuable Statistical Analysis op...      3613  \n",
      "3  Assessing the significance of differences in d...      5224  \n",
      "4                                                NaN       NaN  \n",
      "\n",
      "[5 rows x 21 columns]\n",
      "Count              int64\n",
      "ExcerptPostId    float64\n",
      "Id                 int64\n",
      "TagName           object\n",
      "WikiPostId       float64\n",
      "dtype: object\n"
     ]
    }
   ],
   "source": [
    "# create pandas dataframe from post.xml and convert datatype\n",
    "dfPost=pd.DataFrame([node.attrib for node in root])\n",
    "print dfPost.shape,dfPost.head()\n",
    "print dfTag.dtypes\n",
    "\n"
   ]
  },
  {
   "cell_type": "code",
   "execution_count": 89,
   "metadata": {
    "collapsed": false
   },
   "outputs": [
    {
     "data": {
      "text/plain": [
       "float"
      ]
     },
     "execution_count": 89,
     "metadata": {},
     "output_type": "execute_result"
    }
   ],
   "source": [
    "# examine the dfPost Tags and \n",
    "type(dfPost['Tags'][4])\n"
   ]
  },
  {
   "cell_type": "code",
   "execution_count": 90,
   "metadata": {
    "collapsed": false
   },
   "outputs": [
    {
     "data": {
      "text/plain": [
       "4"
      ]
     },
     "execution_count": 90,
     "metadata": {},
     "output_type": "execute_result"
    }
   ],
   "source": [
    "#convert string to list of string \n",
    "dfPost['Tags']=dfPost['Tags'].str.replace('>','')\n",
    "dfPost['Tags']=dfPost['Tags'].str.replace('<',' ')\n",
    "dfPost['Tags']=dfPost['Tags'].str.split(' ')\n",
    "\n"
   ]
  },
  {
   "cell_type": "code",
   "execution_count": null,
   "metadata": {
    "collapsed": true
   },
   "outputs": [],
   "source": [
    "dfPost_popularTag=dfPost[dfPost['Tags'].isin(PopularTags.tolist())]\n",
    "dfPost_popularTag.shape"
   ]
  }
 ],
 "metadata": {
  "kernelspec": {
   "display_name": "Python 2",
   "language": "python",
   "name": "python2"
  },
  "language_info": {
   "codemirror_mode": {
    "name": "ipython",
    "version": 2
   },
   "file_extension": ".py",
   "mimetype": "text/x-python",
   "name": "python",
   "nbconvert_exporter": "python",
   "pygments_lexer": "ipython2",
   "version": "2.7.10"
  }
 },
 "nbformat": 4,
 "nbformat_minor": 0
}
